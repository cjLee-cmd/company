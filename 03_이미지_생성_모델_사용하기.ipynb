{
  "nbformat": 4,
  "nbformat_minor": 0,
  "metadata": {
    "colab": {
      "provenance": [],
      "gpuClass": "premium",
      "include_colab_link": true
    },
    "kernelspec": {
      "name": "python3",
      "display_name": "Python 3"
    },
    "language_info": {
      "name": "python"
    },
    "accelerator": "GPU",
    "gpuClass": "premium"
  },
  "cells": [
    {
      "cell_type": "markdown",
      "metadata": {
        "id": "view-in-github",
        "colab_type": "text"
      },
      "source": [
        "<a href=\"https://colab.research.google.com/github/cjLee-cmd/company/blob/main/03_%EC%9D%B4%EB%AF%B8%EC%A7%80_%EC%83%9D%EC%84%B1_%EB%AA%A8%EB%8D%B8_%EC%82%AC%EC%9A%A9%ED%95%98%EA%B8%B0.ipynb\" target=\"_parent\"><img src=\"https://colab.research.google.com/assets/colab-badge.svg\" alt=\"Open In Colab\"/></a>"
      ]
    },
    {
      "cell_type": "markdown",
      "source": [
        "# 세상에서 가장 쉬운 AI 이미지 생성 - Stable Diffusion\n",
        "\n",
        "https://keras.io/guides/keras_cv/generate_images_with_stable_diffusion/\n",
        "\n",
        "```\n",
        "@misc{wood2022kerascv,\n",
        "  title={KerasCV},\n",
        "  author={Wood, Luke and Tan, Zhenyu and Ian, Stenbit and Zhu, Scott and Chollet, Fran\\c{c}ois and others},\n",
        "  year={2022},\n",
        "  howpublished={\\url{https://github.com/keras-team/keras-cv}},\n",
        "}\n",
        "```"
      ],
      "metadata": {
        "id": "srFY0ZhBV-AV"
      }
    },
    {
      "cell_type": "code",
      "source": [
        "!nvidia-smi"
      ],
      "metadata": {
        "id": "YSVcLGS6Y57c"
      },
      "execution_count": null,
      "outputs": []
    },
    {
      "cell_type": "code",
      "source": [
        "!pip install --upgrade keras-cv keras-core"
      ],
      "metadata": {
        "id": "idqAu4Y0PT9N"
      },
      "execution_count": null,
      "outputs": []
    },
    {
      "cell_type": "code",
      "execution_count": null,
      "metadata": {
        "id": "7MZ_cXWTOdy_"
      },
      "outputs": [],
      "source": [
        "import keras_cv\n",
        "import matplotlib.pyplot as plt"
      ]
    },
    {
      "cell_type": "markdown",
      "source": [
        "## Stable Diffusion 모델 로드"
      ],
      "metadata": {
        "id": "M1_p95ouWUPu"
      }
    },
    {
      "cell_type": "code",
      "source": [
        "model = keras_cv.models.StableDiffusion(img_width=512, img_height=512, jit_compile=True)"
      ],
      "metadata": {
        "id": "5J8RmU6oPOly"
      },
      "execution_count": null,
      "outputs": []
    },
    {
      "cell_type": "code",
      "source": [
        "def plot_images(images):\n",
        "    plt.figure(figsize=(20, 20))\n",
        "    for i in range(len(images)):\n",
        "        ax = plt.subplot(1, len(images), i + 1)\n",
        "        plt.imshow(images[i])\n",
        "        plt.axis(\"off\")\n",
        "        plt.tight_layout()"
      ],
      "metadata": {
        "id": "hZAASj3yS7dc"
      },
      "execution_count": null,
      "outputs": []
    },
    {
      "cell_type": "markdown",
      "source": [
        "## 첫 번째 이미지 생성\n",
        "\n",
        "> 우주인이 말을 타고 있는 사진"
      ],
      "metadata": {
        "id": "PR8xlQjkWZi4"
      }
    },
    {
      "cell_type": "code",
      "source": [
        "images = model.text_to_image(\"photograph of an astronaut riding a horse\", batch_size=3)\n",
        "\n",
        "plot_images(images)"
      ],
      "metadata": {
        "id": "tS3w5CqlPeXX"
      },
      "execution_count": null,
      "outputs": []
    },
    {
      "cell_type": "markdown",
      "source": [
        "## 한글 -> 영어 번역"
      ],
      "metadata": {
        "id": "jQHT1IYYWgvo"
      }
    },
    {
      "cell_type": "code",
      "source": [
        "!pip install translate"
      ],
      "metadata": {
        "id": "Gu_6E5KlTF75"
      },
      "execution_count": null,
      "outputs": []
    },
    {
      "cell_type": "code",
      "source": [
        "from translate import Translator\n",
        "\n",
        "translator = Translator(from_lang=\"ko\", to_lang=\"en\")\n",
        "\n",
        "translation = translator.translate(\"장미 정원에서 아이들이 뛰어오는 모습\")\n",
        "\n",
        "translation"
      ],
      "metadata": {
        "id": "Tn7P884hUNNI"
      },
      "execution_count": null,
      "outputs": []
    },
    {
      "cell_type": "markdown",
      "source": [
        "## 함수화"
      ],
      "metadata": {
        "id": "EApuW3HUWkRY"
      }
    },
    {
      "cell_type": "code",
      "source": [
        "def generate_images(text, n=3):\n",
        "    print(text)\n",
        "    translation = translator.translate(text)\n",
        "    print(translation)\n",
        "\n",
        "    images = model.text_to_image(translation, batch_size=n)\n",
        "\n",
        "    return images\n",
        "\n",
        "images = generate_images(\"장미 정원에서 아이들이 뛰어오는 모습\")\n",
        "\n",
        "plot_images(images)"
      ],
      "metadata": {
        "id": "NDHSwiuKUe2n"
      },
      "execution_count": null,
      "outputs": []
    },
    {
      "cell_type": "markdown",
      "source": [
        "## 그림 생성 앱 만들기"
      ],
      "metadata": {
        "id": "pDZjT1OOaNYq"
      }
    },
    {
      "cell_type": "code",
      "source": [
        "!pip install -q gradio"
      ],
      "metadata": {
        "id": "1Wr41qMFVGnE"
      },
      "execution_count": null,
      "outputs": []
    },
    {
      "cell_type": "code",
      "source": [
        "import gradio as gr\n",
        "\n",
        "def inference(text):\n",
        "    image = generate_images(text, 1).squeeze()\n",
        "    return image\n",
        "\n",
        "demo = gr.Interface(fn=inference, inputs=\"text\", outputs=\"image\")\n",
        "\n",
        "demo.launch(debug=True, share=True)"
      ],
      "metadata": {
        "id": "a7lN0ciWaQPm"
      },
      "execution_count": null,
      "outputs": []
    },
    {
      "cell_type": "code",
      "source": [],
      "metadata": {
        "id": "4pkIvTkLanzh"
      },
      "execution_count": null,
      "outputs": []
    }
  ]
}